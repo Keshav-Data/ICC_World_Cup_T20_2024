{
 "cells": [
  {
   "cell_type": "code",
   "execution_count": 12,
   "id": "77399d31-b804-4b19-b057-1cb12c2a175c",
   "metadata": {},
   "outputs": [],
   "source": [
    "import requests\n",
    "from bs4 import BeautifulSoup\n",
    "import pandas as pd\n",
    "\n",
    "url = \"https://www.espncricinfo.com/records/tournament/batting-most-runs-career/icc-men-s-t20-world-cup-2024-15946\"\n",
    "r = requests.get(url)\n",
    "soup = BeautifulSoup(r.text, \"lxml\")\n",
    "\n",
    "# Find the table\n",
    "box = soup.find(\"table\", class_=\"ds-w-full ds-table ds-table-xs ds-table-auto ds-w-full ds-overflow-scroll ds-scrollbar-hide\")\n",
    "\n",
    "# Extract header row\n",
    "thead = box.find(\"thead\", class_=\"ds-bg-fill-content-alternate ds-text-left\")\n",
    "headers = [td.find(\"span\").text.strip() for td in thead.find_all(\"td\")]\n",
    "\n",
    "# Extract data rows\n",
    "rows = box.find_all(\"tr\")[1:]  # Skip the header row\n",
    "\n",
    "Row = []\n",
    "for row in rows:\n",
    "    # Extract each cell (td) within the row\n",
    "    cells = row.find_all(\"td\")\n",
    "    # Get text from each cell and strip extra spaces\n",
    "    row_data = [cell.text.strip() for cell in cells]\n",
    "    Row.append(row_data)\n",
    "\n",
    "# Create DataFrame with headers and rows\n",
    "df = pd.DataFrame(Row, columns=headers)\n",
    "\n",
    "# Add \"Team\" column: Assuming the team name is after the player in the \"Player\" column\n",
    "# Example: Player1 (TeamName), Player2 (TeamB), etc.\n",
    "\n",
    "# Extract the team name after the player (assuming it is in parentheses)\n",
    "df['Team'] = df['Player'].str.extract(r'\\((.*?)\\)', expand=False)\n",
    "\n",
    "# Create new column \"Player\" with player name only (without team)\n",
    "df['Player'] = df['Player'].str.split('(').str[0].str.strip()\n",
    "\n",
    "# Reorder the columns so that \"Team\" comes after \"Player\"\n",
    "df = df[['Player', 'Team'] + [col for col in df.columns if col not in ['Player', 'Team']]]\n",
    "\n",
    "# Print DataFrame\n",
    "df#.to_csv(\"wc_bat.csv\")\n"
   ]
  }
 ],
 "metadata": {
  "kernelspec": {
   "display_name": "Python 3 (ipykernel)",
   "language": "python",
   "name": "python3"
  },
  "language_info": {
   "codemirror_mode": {
    "name": "ipython",
    "version": 3
   },
   "file_extension": ".py",
   "mimetype": "text/x-python",
   "name": "python",
   "nbconvert_exporter": "python",
   "pygments_lexer": "ipython3",
   "version": "3.12.4"
  }
 },
 "nbformat": 4,
 "nbformat_minor": 5
}
